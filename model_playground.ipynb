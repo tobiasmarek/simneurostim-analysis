{
 "cells": [
  {
   "cell_type": "markdown",
   "id": "41da9137-a38c-469d-832d-f6536558efec",
   "metadata": {},
   "source": [
    "## Ball model extracted from Cell\n",
    "\n",
    "#### (new SomaOnly child class of the Cell class) "
   ]
  },
  {
   "cell_type": "code",
   "execution_count": 1,
   "id": "94134a4b-328b-4948-bfda-dbd4da4a4a6d",
   "metadata": {},
   "outputs": [],
   "source": [
    "import os\n",
    "os.chdir('../../')"
   ]
  },
  {
   "cell_type": "code",
   "execution_count": 2,
   "id": "3c5c3b4d-ca98-499b-b8d5-39b7f1a776b7",
   "metadata": {},
   "outputs": [
    {
     "name": "stderr",
     "output_type": "stream",
     "text": [
      "Warning: no DISPLAY environment variable.\n",
      "--No graphics will be displayed.\n"
     ]
    }
   ],
   "source": [
    "import numpy as np\n",
    "import pandas as pd\n",
    "from neuron import h\n",
    "from neurostim.cell import Cell\n",
    "from neurostim.simulation import SimControl\n",
    "from neurostim.stimulator import Stimulator\n",
    "from neurostim.utils import convert_polar_to_cartesian_xz\n",
    "from neurostim.analysis import get_AP_times\n",
    "import matplotlib.pyplot as plt"
   ]
  },
  {
   "cell_type": "code",
   "execution_count": 3,
   "id": "a935252c-a51e-4cd5-905e-97d7a66ac5e6",
   "metadata": {},
   "outputs": [],
   "source": [
    "class SomaOnly(Cell):\n",
    "    name = 'SomaOnlyModel'\n",
    "\n",
    "    def __init__(\n",
    "        self,\n",
    "        gid=0,\n",
    "        hoc_file=\"simneurostim/model/hoc/L5.hoc\",\n",
    "        cortical_depth={'L23': 400, 'L5': 1170},\n",
    "        ChR_soma_density=13e9,\n",
    "        ChR_distribution=\"uniform\",\n",
    "        rm_mech_from_secs=None,\n",
    "        scale=1,\n",
    "    ):\n",
    "        super().__init__(hoc_file, cortical_depth, ChR_soma_density, ChR_distribution, rm_mech_from_secs)\n",
    "\n",
    "        self._gid = gid\n",
    "        self._strip_redundant_morphology()\n",
    "        self._strip_child_relations()\n",
    "        self._strip_redundant_coords()\n",
    "\n",
    "        self._scale_size_L(scale)\n",
    "\n",
    "    \n",
    "    def _strip_redundant_morphology(self):\n",
    "        assert (h.soma in h.allsec()), \"Soma not found.\"\n",
    "        \n",
    "        for sec in h.allsec():\n",
    "            if sec.name() != \"soma\":\n",
    "                h.delete_section(sec=sec)\n",
    "            else:\n",
    "                self.soma = sec\n",
    "\n",
    "    def _strip_child_relations(self):\n",
    "        self.soma_child_relations = None\n",
    "\n",
    "    def _strip_redundant_coords(self):\n",
    "        self.segs_coord = self.segs_coord[\"soma\"]\n",
    "    \n",
    "    def _setup_morphology(self): # unused\n",
    "        h.finitialize()\n",
    "        pass\n",
    "\n",
    "    def _setup_biophysics(self): # unused \n",
    "        h.finitialize()\n",
    "        pass\n",
    "\n",
    "    def _scale_size_L(self, scale):\n",
    "        for seg in self.soma:\n",
    "            print(f\"BEFORE: cm:{seg.cm}, area:{seg.area()}, volume:{seg.volume()}, sizeof:{seg.__sizeof__()}, diam:{seg.diam}\")\n",
    "        print()\n",
    "        \n",
    "        self.soma.L *= scale\n",
    "        \n",
    "        for seg in self.soma:\n",
    "            print(f\"AFTER: cm:{seg.cm}, area:{seg.area()}, volume:{seg.volume()}, sizeof:{seg.__sizeof__()}, diam:{seg.diam}\")\n",
    "        \n",
    "        #h.finitialize() does not let me\n",
    "\n",
    "    def _scale_size_diams(self, scale): # unused\n",
    "        for seg in self.soma:\n",
    "            print(f\"BEFORE: cm:{seg.cm}, area:{seg.area()}, volume:{seg.volume()}, sizeof:{seg.__sizeof__()}, diam:{seg.diam}\")\n",
    "            seg.diam *= scale\n",
    "            print(f\"AFTER: cm:{seg.cm}, area:{seg.area()}, volume:{seg.volume()}, sizeof:{seg.__sizeof__()}, diam:{seg.diam}\\n\")\n",
    "\n",
    "        #h.finitialize() does not let me\n",
    "    \n",
    "    def change_biophysics(self, changes): # {'g_pas': 0.000033, 'gbar_na': 0.12, ..}\n",
    "        for property_name, value in changes.items():\n",
    "            for seg in self.soma:\n",
    "                try:\n",
    "                    setattr(seg, property_name, value)\n",
    "                except AttributeError:\n",
    "                    print(f\"Property {property_name} not found in segment in the soma section.\")\n",
    "        \n",
    "        h.finitialize()\n",
    "\n",
    "    def change_property_scale(self, property_name, scalar):\n",
    "        for seg in self.soma:\n",
    "            try:\n",
    "                prev = getattr(seg, property_name)\n",
    "                setattr(seg, property_name, prev*scalar)\n",
    "            except AttributeError:\n",
    "                print(f\"Property {property_name} not found in segment in the soma section.\")\n",
    "        \n",
    "        h.finitialize()\n",
    "\n",
    "    def _find_section_by_name(self, sec_name): # unused\n",
    "        for sec in h.allsec():\n",
    "            if sec.name() == sec_name:\n",
    "                return sec\n",
    "        return None\n",
    "\n",
    "    \n",
    "    def plot_soma(self):\n",
    "        fig, ax = plt.subplots()\n",
    "        collection = self.plot_foutz2012(\n",
    "             func=lambda x:1, axes='xz',scaling = 1, segfunc=False, clim=None,cmap=None,color='black', shift_x=0)\n",
    "        ax.add_collection(collection)\n",
    "        ax.axis('equal')"
   ]
  },
  {
   "cell_type": "code",
   "execution_count": 4,
   "id": "7f576dab-c04e-404e-83d0-ae97ad8bf89b",
   "metadata": {},
   "outputs": [
    {
     "data": {
      "text/plain": [
       "1.0"
      ]
     },
     "execution_count": 4,
     "metadata": {},
     "output_type": "execute_result"
    }
   ],
   "source": [
    "h.load_file(\"stdrun.hoc\")\n",
    "h.cvode_active(1)"
   ]
  },
  {
   "cell_type": "code",
   "execution_count": 5,
   "id": "9dd290f7-6ee0-4db6-88b6-d2a7dba33753",
   "metadata": {},
   "outputs": [
    {
     "name": "stdout",
     "output_type": "stream",
     "text": [
      "\t1 \n",
      "\t1 \n",
      "\t1 \n",
      "\t1 \n",
      "BEFORE: cm:1.0, area:86.14836104765763, volume:154.4043701854171, sizeof:32, diam:8.0625\n",
      "BEFORE: cm:1.0, area:131.82019906628219, volume:332.32749130241575, sizeof:32, diam:11.825000047683716\n",
      "BEFORE: cm:1.0, area:153.47246345475108, volume:528.7879904499684, sizeof:32, diam:14.96250033378601\n",
      "BEFORE: cm:1.0, area:166.89712162041369, volume:683.5163402989418, sizeof:32, diam:17.02500033378601\n",
      "BEFORE: cm:1.0, area:177.40338781091344, volume:802.3392058340972, sizeof:32, diam:18.450000047683716\n",
      "BEFORE: cm:1.0, area:183.85635262132297, volume:884.554681526376, sizeof:32, diam:19.375\n",
      "BEFORE: cm:1.0, area:186.2701736425645, volume:873.3627576979625, sizeof:32, diam:19.25\n",
      "BEFORE: cm:1.0, area:185.86800633441408, volume:698.1944235677253, sizeof:32, diam:17.1875\n",
      "BEFORE: cm:1.0, area:155.27944801072528, volume:398.8104611576605, sizeof:32, diam:12.9375\n",
      "BEFORE: cm:1.0, area:94.4400525410541, volume:176.81276153485052, sizeof:32, diam:8.625\n",
      "\n",
      "AFTER: cm:1.0, area:157.50221494790128, volume:308.8087403708342, sizeof:32, diam:8.0625\n",
      "AFTER: cm:1.0, area:233.8183554920035, volume:664.6549826048315, sizeof:32, diam:11.825000047683716\n",
      "AFTER: cm:1.0, area:288.49680151008573, volume:1057.575980899937, sizeof:32, diam:14.96250033378601\n",
      "AFTER: cm:1.0, area:324.18722137066356, volume:1367.0326805978837, sizeof:32, diam:17.02500033378601\n",
      "AFTER: cm:1.0, area:349.5470595549287, volume:1604.6784116681945, sizeof:32, diam:18.450000047683716\n",
      "AFTER: cm:1.0, area:365.8390108662856, volume:1769.109363052752, sizeof:32, diam:19.375\n",
      "AFTER: cm:1.0, area:365.3240099828064, volume:1746.725515395925, sizeof:32, diam:19.25\n",
      "AFTER: cm:1.0, area:336.8113603275635, volume:1396.3888471354505, sizeof:32, diam:17.1875\n",
      "AFTER: cm:1.0, area:262.14711971056596, volume:797.620922315321, sizeof:32, diam:12.9375\n",
      "AFTER: cm:1.0, area:169.8423528346982, volume:353.62552306970105, sizeof:32, diam:8.625\n"
     ]
    }
   ],
   "source": [
    "L5soma = SomaOnly(0, scale=2) # cant create more instances because in cell.py 'h.' is used instead of object's parameters\n",
    "# L5somaChanged = SomaOnly(1)"
   ]
  },
  {
   "cell_type": "code",
   "execution_count": 6,
   "id": "6e33cbdd-e4c3-4983-a922-4c341552a6fd",
   "metadata": {},
   "outputs": [
    {
     "name": "stdout",
     "output_type": "stream",
     "text": [
      "----------------------------------------------------------------------------------------------------\n",
      "DATA RANGE:  1.0 1.0\n"
     ]
    },
    {
     "name": "stderr",
     "output_type": "stream",
     "text": [
      "/root/morph_impact_on_opt_stim/simneurostim/base-neurostim/neurostim/cell.py:501: RuntimeWarning: invalid value encountered in divide\n",
      "  a = (data - clim[0])/(clim[1]-clim[0])\n"
     ]
    },
    {
     "data": {
      "image/png": "[encoded data removed]",
      "text/plain": [
       "<Figure size 640x480 with 1 Axes>"
      ]
     },
     "metadata": {},
     "output_type": "display_data"
    }
   ],
   "source": [
    "L5soma.plot_soma()"
   ]
  },
  {
   "cell_type": "code",
   "execution_count": 7,
   "id": "c315a862-6428-4024-bee4-bbc7e3f45ec3",
   "metadata": {},
   "outputs": [
    {
     "name": "stdout",
     "output_type": "stream",
     "text": [
      "\n",
      "|----------|       soma(0-1)\n",
      "\n"
     ]
    },
    {
     "data": {
      "text/plain": [
       "1.0"
      ]
     },
     "execution_count": 7,
     "metadata": {},
     "output_type": "execute_result"
    }
   ],
   "source": [
    "h.topology()"
   ]
  },
  {
   "cell_type": "code",
   "execution_count": 8,
   "id": "bd375ebc-28a6-46b3-8d73-12feb0bd8b9a",
   "metadata": {},
   "outputs": [
    {
     "data": {
      "text/plain": [
       "[soma(0.05),\n",
       " soma(0.15),\n",
       " soma(0.25),\n",
       " soma(0.35),\n",
       " soma(0.45),\n",
       " soma(0.55),\n",
       " soma(0.65),\n",
       " soma(0.75),\n",
       " soma(0.85),\n",
       " soma(0.95)]"
      ]
     },
     "execution_count": 8,
     "metadata": {},
     "output_type": "execute_result"
    }
   ],
   "source": [
    "list(L5soma.soma)"
   ]
  },
  {
   "cell_type": "code",
   "execution_count": 9,
   "id": "7bd0738f-dbf0-405b-984c-2abdeab5067b",
   "metadata": {},
   "outputs": [],
   "source": [
    "L5soma.soma_child_relations"
   ]
  },
  {
   "cell_type": "code",
   "execution_count": 10,
   "id": "5bf23887-cb6c-4148-a651-e0a14e8988f8",
   "metadata": {},
   "outputs": [
    {
     "data": {
      "text/plain": [
       "[]"
      ]
     },
     "execution_count": 10,
     "metadata": {},
     "output_type": "execute_result"
    }
   ],
   "source": [
    "h.soma.children()"
   ]
  },
  {
   "cell_type": "code",
   "execution_count": 11,
   "id": "2841a058-59fe-486a-86c8-c3fb3c02e43b",
   "metadata": {},
   "outputs": [
    {
     "data": {
      "text/plain": [
       "[[0.0, 0.0, -1170.0],\n",
       " [3.3306690738754696e-16, 0.0, -1171.5],\n",
       " [9.992007221626409e-16, 0.0, -1174.5],\n",
       " [1.6653345369377348e-15, 0.0, -1177.5],\n",
       " [2.3314683517128287e-15, 0.0, -1180.5],\n",
       " [2.9976021664879227e-15, 0.0, -1183.5],\n",
       " [3.6637359812630166e-15, 0.0, -1186.5],\n",
       " [4.3298697960381105e-15, 0.0, -1189.5],\n",
       " [4.9960036108132044e-15, 0.0, -1192.5],\n",
       " [5.662137425588298e-15, 0.0, -1195.5],\n",
       " [6.328271240363392e-15, 0.0, -1198.5],\n",
       " [6.661338147750939e-15, 0.0, -1200.0]]"
      ]
     },
     "execution_count": 11,
     "metadata": {},
     "output_type": "execute_result"
    }
   ],
   "source": [
    "L5soma.segs_coord"
   ]
  },
  {
   "cell_type": "code",
   "execution_count": 12,
   "id": "45877433-2e63-49fc-abca-71fecc70bb4b",
   "metadata": {},
   "outputs": [
    {
     "name": "stdout",
     "output_type": "stream",
     "text": [
      "{'soma(0.05)': (256.752, 64.188), 'soma(0.15)': (256.752, 64.188), 'soma(0.25)': (256.752, 64.188), 'soma(0.35)': (256.752, 64.188), 'soma(0.45)': (256.752, 64.188), 'soma(0.55)': (256.752, 64.188), 'soma(0.65)': (256.752, 64.188), 'soma(0.75)': (256.752, 64.188), 'soma(0.85)': (256.752, 64.188), 'soma(0.95)': (256.752, 64.188)}\n"
     ]
    }
   ],
   "source": [
    "gbars = {}\n",
    "for seg in L5soma.soma:\n",
    "    gbars[str(seg)] = (seg.gbar_na, seg.gbar_kv)\n",
    "\n",
    "print(gbars)"
   ]
  },
  {
   "cell_type": "code",
   "execution_count": 13,
   "id": "5975fb2c-16e4-40ac-9281-87b21c9b10b2",
   "metadata": {},
   "outputs": [],
   "source": [
    "stimulator = Stimulator(\n",
    "    diameter_um=200, \n",
    "    NA=0.22\n",
    ")\n",
    "\n",
    "simcontrol = SimControl(\n",
    "    cell=L5soma,\n",
    "    stimulator=stimulator\n",
    ")\n",
    "\n",
    "sim_data = simcontrol.run(\n",
    "    temp_protocol=dict(\n",
    "        duration_ms=200,\n",
    "        delay_ms=10,\n",
    "        total_rec_time_ms=230,\n",
    "    ),\n",
    "    stim_location=(0, 0, 0),\n",
    "    stim_intensity_mWPERmm2=100,\n",
    "    rec_vars=(\n",
    "        ['time [ms]', 'V_soma(0.5)'],\n",
    "        ['h._ref_t', 'h.soma(0.5)._ref_v'],\n",
    "    ),\n",
    "    interpol_dt_ms=0.1,\n",
    ")"
   ]
  },
  {
   "cell_type": "code",
   "execution_count": 28,
   "id": "c5b8259e-dbf5-4cba-87c9-cbc0772acb28",
   "metadata": {},
   "outputs": [
    {
     "data": {
      "text/html": [
       "<div>\n",
       "<style scoped>\n",
       "    .dataframe tbody tr th:only-of-type {\n",
       "        vertical-align: middle;\n",
       "    }\n",
       "\n",
       "    .dataframe tbody tr th {\n",
       "        vertical-align: top;\n",
       "    }\n",
       "\n",
       "    .dataframe thead th {\n",
       "        text-align: right;\n",
       "    }\n",
       "</style>\n",
       "<table border=\"1\" class=\"dataframe\">\n",
       "  <thead>\n",
       "    <tr style=\"text-align: right;\">\n",
       "      <th></th>\n",
       "      <th>time [ms]</th>\n",
       "      <th>V_soma(0.5)</th>\n",
       "    </tr>\n",
       "  </thead>\n",
       "  <tbody>\n",
       "    <tr>\n",
       "      <th>500</th>\n",
       "      <td>50.0</td>\n",
       "      <td>-38.958039</td>\n",
       "    </tr>\n",
       "    <tr>\n",
       "      <th>501</th>\n",
       "      <td>50.1</td>\n",
       "      <td>-40.892733</td>\n",
       "    </tr>\n",
       "    <tr>\n",
       "      <th>502</th>\n",
       "      <td>50.2</td>\n",
       "      <td>-42.619605</td>\n",
       "    </tr>\n",
       "    <tr>\n",
       "      <th>503</th>\n",
       "      <td>50.3</td>\n",
       "      <td>-44.152961</td>\n",
       "    </tr>\n",
       "    <tr>\n",
       "      <th>504</th>\n",
       "      <td>50.4</td>\n",
       "      <td>-45.508682</td>\n",
       "    </tr>\n",
       "    <tr>\n",
       "      <th>...</th>\n",
       "      <td>...</td>\n",
       "      <td>...</td>\n",
       "    </tr>\n",
       "    <tr>\n",
       "      <th>2295</th>\n",
       "      <td>229.5</td>\n",
       "      <td>-63.524720</td>\n",
       "    </tr>\n",
       "    <tr>\n",
       "      <th>2296</th>\n",
       "      <td>229.6</td>\n",
       "      <td>-63.573918</td>\n",
       "    </tr>\n",
       "    <tr>\n",
       "      <th>2297</th>\n",
       "      <td>229.7</td>\n",
       "      <td>-63.623115</td>\n",
       "    </tr>\n",
       "    <tr>\n",
       "      <th>2298</th>\n",
       "      <td>229.8</td>\n",
       "      <td>-63.672313</td>\n",
       "    </tr>\n",
       "    <tr>\n",
       "      <th>2299</th>\n",
       "      <td>229.9</td>\n",
       "      <td>-63.720978</td>\n",
       "    </tr>\n",
       "  </tbody>\n",
       "</table>\n",
       "<p>1800 rows × 2 columns</p>\n",
       "</div>"
      ],
      "text/plain": [
       "      time [ms]  V_soma(0.5)\n",
       "500        50.0   -38.958039\n",
       "501        50.1   -40.892733\n",
       "502        50.2   -42.619605\n",
       "503        50.3   -44.152961\n",
       "504        50.4   -45.508682\n",
       "...         ...          ...\n",
       "2295      229.5   -63.524720\n",
       "2296      229.6   -63.573918\n",
       "2297      229.7   -63.623115\n",
       "2298      229.8   -63.672313\n",
       "2299      229.9   -63.720978\n",
       "\n",
       "[1800 rows x 2 columns]"
      ]
     },
     "execution_count": 28,
     "metadata": {},
     "output_type": "execute_result"
    }
   ],
   "source": [
    "sim_data[sim_data['time [ms]'] >= 50]"
   ]
  },
  {
   "cell_type": "code",
   "execution_count": 15,
   "id": "2111fdce-1e1e-45ea-ad19-75e5c0f1cb1c",
   "metadata": {},
   "outputs": [
    {
     "data": {
      "text/plain": [
       "<Axes: xlabel='time [ms]'>"
      ]
     },
     "execution_count": 15,
     "metadata": {},
     "output_type": "execute_result"
    },
    {
     "data": {
      "image/png": "[encoded data removed]",
      "text/plain": [
       "<Figure size 640x480 with 1 Axes>"
      ]
     },
     "metadata": {},
     "output_type": "display_data"
    }
   ],
   "source": [
    "sim_data.plot(\"time [ms]\",\"V_soma(0.5)\")"
   ]
  },
  {
   "cell_type": "code",
   "execution_count": 16,
   "id": "0af3c93a-12d6-4612-b896-46ed1a251920",
   "metadata": {},
   "outputs": [],
   "source": [
    "L5soma.change_biophysics({'gbar_na': 100.5})"
   ]
  },
  {
   "cell_type": "code",
   "execution_count": 17,
   "id": "49931d34-a287-4af6-b1a3-f2bbcc8a379e",
   "metadata": {},
   "outputs": [
    {
     "name": "stdout",
     "output_type": "stream",
     "text": [
      "dict_keys(['pas', 'ca', 'cad', 'chanrhod', 'kca', 'km', 'kv', 'na', 'na12', 'na16'])\n",
      "{'gbar': [0.0, 0.0, 0.0, 0.0, 0.0, 0.0, 0.0, 0.0, 0.0, 0.0], 'gna': [0.0, 0.0, 0.0, 0.0, 0.0, 0.0, 0.0, 0.0, 0.0, 0.0], 'minf': [0.008806476994711035, 0.008806474114313963, 0.008806471024921015, 0.008806467821504467, 0.008806464622998184, 0.008806461610405759, 0.008806458886242449, 0.008806456376558533, 0.008806453857784936, 0.008806451347687533], 'hinf': [0.748385642262903, 0.7483857114954233, 0.7483857857513174, 0.7483858627478549, 0.7483859396263705, 0.748386012036306, 0.7483860775136297, 0.7483861378357791, 0.748386198376406, 0.7483862587084938], 'mtau': [0.0692251216735887, 0.06922511762468236, 0.06922511328199546, 0.06922510877902825, 0.0692251042829633, 0.06922510004823307, 0.06922509621894087, 0.06922509269113729, 0.06922508915055656, 0.06922508562217175], 'htau': [4.656676671054613, 4.656675827072724, 4.656674921853189, 4.656673983223728, 4.656673046033018, 4.656672163316717, 4.656671365112706, 4.65667062975306, 4.656669891730055, 4.656669156249253], 'm': [0.008806476994711035, 0.008806474114313963, 0.008806471024921015, 0.008806467821504467, 0.008806464622998184, 0.008806461610405759, 0.008806458886242449, 0.008806456376558533, 0.008806453857784936, 0.008806451347687533], 'h': [0.748385642262903, 0.7483857114954233, 0.7483857857513174, 0.7483858627478549, 0.7483859396263705, 0.748386012036306, 0.7483860775136297, 0.7483861378357791, 0.748386198376406, 0.7483862587084938]}\n",
      "pas\n",
      "ca\n",
      "cad\n",
      "chanrhod\n",
      "kca\n",
      "km\n",
      "kv\n",
      "na\n",
      "na12\n",
      "na16\n"
     ]
    }
   ],
   "source": [
    "mechs = h.soma.psection()['density_mechs']\n",
    "\n",
    "print(mechs.keys())\n",
    "print(mechs['na12'])\n",
    "\n",
    "for key, val in mechs.items():\n",
    "    print(key)"
   ]
  },
  {
   "cell_type": "code",
   "execution_count": 18,
   "id": "114fff68-7b7e-42f9-88c0-0178f3abd1a4",
   "metadata": {},
   "outputs": [
    {
     "data": {
      "text/plain": [
       "100.5"
      ]
     },
     "execution_count": 18,
     "metadata": {},
     "output_type": "execute_result"
    }
   ],
   "source": [
    "L5soma.soma(0.5).gbar_na"
   ]
  },
  {
   "cell_type": "markdown",
   "id": "86631fca-6816-4580-bf57-da6a3cfd8406",
   "metadata": {},
   "source": [
    "## Check size doubling"
   ]
  },
  {
   "cell_type": "code",
   "execution_count": 19,
   "id": "202fc89c-33a3-425e-b377-f8dc828f265e",
   "metadata": {},
   "outputs": [],
   "source": [
    "import pprint\n",
    "\n",
    "def check_size_properties():\n",
    "    diams = {}\n",
    "    for seg in L5soma.soma:\n",
    "        diams[str(seg)] = seg.diam\n",
    "    \n",
    "    pprint.pprint(diams)\n",
    "\n",
    "    segsdiams = [L5soma.soma.diam3d(i) for i in range(len(list(L5soma.soma.allseg())))]\n",
    "    diams3d = {}\n",
    "    for i in range(len(segsdiams)):\n",
    "        diams3d[i] = segsdiams[i]\n",
    "        \n",
    "    pprint.pprint(diams3d)\n",
    "    print(f\"soma.__sizeof__() = {L5soma.soma.__sizeof__()}\")\n",
    "    print(f\"soma.L = {L5soma.soma.L}\")\n",
    "    print(f\"soma.Ra = {L5soma.soma.Ra}\")"
   ]
  },
  {
   "cell_type": "code",
   "execution_count": 20,
   "id": "aa2c6093-8ac8-436c-aa04-14f7fbac7959",
   "metadata": {},
   "outputs": [
    {
     "name": "stdout",
     "output_type": "stream",
     "text": [
      "{'soma(0.05)': 8.0625,\n",
      " 'soma(0.15)': 11.825000047683716,\n",
      " 'soma(0.25)': 14.96250033378601,\n",
      " 'soma(0.35)': 17.02500033378601,\n",
      " 'soma(0.45)': 18.450000047683716,\n",
      " 'soma(0.55)': 19.375,\n",
      " 'soma(0.65)': 19.25,\n",
      " 'soma(0.75)': 17.1875,\n",
      " 'soma(0.85)': 12.9375,\n",
      " 'soma(0.95)': 8.625}\n",
      "{0: 7.5,\n",
      " 1: 7.5,\n",
      " 2: 12.0,\n",
      " 3: 15.100000381469727,\n",
      " 4: 17.100000381469727,\n",
      " 5: 18.5,\n",
      " 6: 19.5,\n",
      " 7: 19.5,\n",
      " 8: 17.5,\n",
      " 9: 13.0,\n",
      " 10: 8.0,\n",
      " 11: 8.0}\n",
      "soma.__sizeof__() = 40\n",
      "soma.L = 60.0\n",
      "soma.Ra = 150.0\n"
     ]
    }
   ],
   "source": [
    "check_size_properties()"
   ]
  },
  {
   "cell_type": "code",
   "execution_count": 21,
   "id": "76ba85e5-e5f5-443e-8310-0be6107cc3c6",
   "metadata": {},
   "outputs": [
    {
     "name": "stdout",
     "output_type": "stream",
     "text": [
      "----------------------------------------------------------------------------------------------------\n",
      "DATA RANGE:  1.0 1.0\n"
     ]
    },
    {
     "name": "stderr",
     "output_type": "stream",
     "text": [
      "/root/morph_impact_on_opt_stim/simneurostim/base-neurostim/neurostim/cell.py:501: RuntimeWarning: invalid value encountered in divide\n",
      "  a = (data - clim[0])/(clim[1]-clim[0])\n"
     ]
    },
    {
     "data": {
      "image/png": "[encoded data removed]",
      "text/plain": [
       "<Figure size 640x480 with 1 Axes>"
      ]
     },
     "metadata": {},
     "output_type": "display_data"
    }
   ],
   "source": [
    "L5soma.plot_soma()"
   ]
  },
  {
   "cell_type": "code",
   "execution_count": 22,
   "id": "a84deec5-45d3-4e5d-858f-d4445fbe358f",
   "metadata": {},
   "outputs": [
    {
     "name": "stdout",
     "output_type": "stream",
     "text": [
      "BEFORE: cm:1.0, area:157.50221494790128, volume:308.8087403708342, sizeof:32, diam:8.0625\n",
      "BEFORE: cm:1.0, area:233.8183554920035, volume:664.6549826048315, sizeof:32, diam:11.825000047683716\n",
      "BEFORE: cm:1.0, area:288.49680151008573, volume:1057.575980899937, sizeof:32, diam:14.96250033378601\n",
      "BEFORE: cm:1.0, area:324.18722137066356, volume:1367.0326805978837, sizeof:32, diam:17.02500033378601\n",
      "BEFORE: cm:1.0, area:349.5470595549287, volume:1604.6784116681945, sizeof:32, diam:18.450000047683716\n",
      "BEFORE: cm:1.0, area:365.8390108662856, volume:1769.109363052752, sizeof:32, diam:19.375\n",
      "BEFORE: cm:1.0, area:365.3240099828064, volume:1746.725515395925, sizeof:32, diam:19.25\n",
      "BEFORE: cm:1.0, area:336.8113603275635, volume:1396.3888471354505, sizeof:32, diam:17.1875\n",
      "BEFORE: cm:1.0, area:262.14711971056596, volume:797.620922315321, sizeof:32, diam:12.9375\n",
      "BEFORE: cm:1.0, area:169.8423528346982, volume:353.62552306970105, sizeof:32, diam:8.625\n",
      "\n",
      "AFTER: cm:1.0, area:306.7822100540298, volume:617.6174807416684, sizeof:32, diam:8.0625\n",
      "AFTER: cm:1.0, area:451.3646688029053, volume:1329.309965209663, sizeof:32, diam:11.825000047683716\n",
      "AFTER: cm:1.0, area:567.3354172903536, volume:2115.151961799874, sizeof:32, diam:14.96250033378601\n",
      "AFTER: cm:1.0, area:643.471132845121, volume:2734.0653611957673, sizeof:32, diam:17.02500033378601\n",
      "AFTER: cm:1.0, area:696.4368619876223, volume:3209.356823336389, sizeof:32, diam:18.450000047683716\n",
      "AFTER: cm:1.0, area:730.7351327576791, volume:3538.218726105504, sizeof:32, diam:19.375\n",
      "AFTER: cm:1.0, area:726.9492985992911, volume:3493.45103079185, sizeof:32, diam:19.25\n",
      "AFTER: cm:1.0, area:654.5083673956733, volume:2792.777694270901, sizeof:32, diam:17.1875\n",
      "AFTER: cm:1.0, area:497.12742962802423, volume:1595.241844630642, sizeof:32, diam:12.9375\n",
      "AFTER: cm:1.0, area:328.89846939330886, volume:707.2510461394021, sizeof:32, diam:8.625\n"
     ]
    }
   ],
   "source": [
    "#L5soma.change_property_scale('diam', 2)\n",
    "L5soma._scale_size_L(2)"
   ]
  },
  {
   "cell_type": "code",
   "execution_count": 23,
   "id": "cd8bf18d-a8d6-47f0-84e1-03ba7d2db60e",
   "metadata": {},
   "outputs": [
    {
     "name": "stdout",
     "output_type": "stream",
     "text": [
      "{'soma(0.05)': 8.0625,\n",
      " 'soma(0.15)': 11.825000047683716,\n",
      " 'soma(0.25)': 14.96250033378601,\n",
      " 'soma(0.35)': 17.02500033378601,\n",
      " 'soma(0.45)': 18.450000047683716,\n",
      " 'soma(0.55)': 19.375,\n",
      " 'soma(0.65)': 19.25,\n",
      " 'soma(0.75)': 17.1875,\n",
      " 'soma(0.85)': 12.9375,\n",
      " 'soma(0.95)': 8.625}\n",
      "{0: 7.5,\n",
      " 1: 7.5,\n",
      " 2: 12.0,\n",
      " 3: 15.100000381469727,\n",
      " 4: 17.100000381469727,\n",
      " 5: 18.5,\n",
      " 6: 19.5,\n",
      " 7: 19.5,\n",
      " 8: 17.5,\n",
      " 9: 13.0,\n",
      " 10: 8.0,\n",
      " 11: 8.0}\n",
      "soma.__sizeof__() = 40\n",
      "soma.L = 120.0\n",
      "soma.Ra = 150.0\n"
     ]
    }
   ],
   "source": [
    "check_size_properties()"
   ]
  },
  {
   "cell_type": "code",
   "execution_count": 24,
   "id": "199ab0e8-8628-4662-912d-cacd79fa7571",
   "metadata": {},
   "outputs": [
    {
     "name": "stdout",
     "output_type": "stream",
     "text": [
      "----------------------------------------------------------------------------------------------------\n",
      "DATA RANGE:  1.0 1.0\n"
     ]
    },
    {
     "data": {
      "image/png": "[encoded data removed]",
      "text/plain": [
       "<Figure size 640x480 with 1 Axes>"
      ]
     },
     "metadata": {},
     "output_type": "display_data"
    }
   ],
   "source": [
    "L5soma.plot_soma()"
   ]
  },
  {
   "cell_type": "code",
   "execution_count": 25,
   "id": "3474532b-3245-4432-b35e-63c7caa00c3a",
   "metadata": {
    "collapsed": true,
    "jupyter": {
     "outputs_hidden": true
    }
   },
   "outputs": [
    {
     "data": {
      "text/plain": [
       "['__class__',\n",
       " '__delattr__',\n",
       " '__dir__',\n",
       " '__doc__',\n",
       " '__eq__',\n",
       " '__format__',\n",
       " '__ge__',\n",
       " '__getattribute__',\n",
       " '__getstate__',\n",
       " '__gt__',\n",
       " '__hash__',\n",
       " '__init__',\n",
       " '__init_subclass__',\n",
       " '__iter__',\n",
       " '__le__',\n",
       " '__lt__',\n",
       " '__module__',\n",
       " '__ne__',\n",
       " '__new__',\n",
       " '__reduce__',\n",
       " '__reduce_ex__',\n",
       " '__repr__',\n",
       " '__setattr__',\n",
       " '__sizeof__',\n",
       " '__str__',\n",
       " '__subclasshook__',\n",
       " 'area',\n",
       " 'ca',\n",
       " 'ca_ion',\n",
       " 'cad',\n",
       " 'chanrhod',\n",
       " 'cm',\n",
       " 'diam',\n",
       " 'k_ion',\n",
       " 'kca',\n",
       " 'km',\n",
       " 'kv',\n",
       " 'na',\n",
       " 'na12',\n",
       " 'na16',\n",
       " 'na_ion',\n",
       " 'node_index',\n",
       " 'pas',\n",
       " 'point_processes',\n",
       " 'ri',\n",
       " 'sec',\n",
       " 'v',\n",
       " 'volume',\n",
       " 'x']"
      ]
     },
     "execution_count": 25,
     "metadata": {},
     "output_type": "execute_result"
    }
   ],
   "source": [
    "dir([seg for seg in L5soma.soma][0])"
   ]
  },
  {
   "cell_type": "code",
   "execution_count": 26,
   "id": "84ef7134-e70f-475d-970d-5df3310040c8",
   "metadata": {},
   "outputs": [
    {
     "data": {
      "text/plain": [
       "617.6174807416684"
      ]
     },
     "execution_count": 26,
     "metadata": {},
     "output_type": "execute_result"
    }
   ],
   "source": [
    "[seg for seg in L5soma.soma][0].volume()"
   ]
  },
  {
   "cell_type": "code",
   "execution_count": 27,
   "id": "fb4014c8-133e-42a8-82b7-c1009aaa9a78",
   "metadata": {},
   "outputs": [
    {
     "data": {
      "text/plain": [
       "['L',\n",
       " 'Ra',\n",
       " '__call__',\n",
       " '__class__',\n",
       " '__contains__',\n",
       " '__delattr__',\n",
       " '__dir__',\n",
       " '__doc__',\n",
       " '__eq__',\n",
       " '__format__',\n",
       " '__ge__',\n",
       " '__getattribute__',\n",
       " '__getstate__',\n",
       " '__gt__',\n",
       " '__hash__',\n",
       " '__init__',\n",
       " '__init_subclass__',\n",
       " '__iter__',\n",
       " '__le__',\n",
       " '__lt__',\n",
       " '__module__',\n",
       " '__ne__',\n",
       " '__new__',\n",
       " '__reduce__',\n",
       " '__reduce_ex__',\n",
       " '__repr__',\n",
       " '__setattr__',\n",
       " '__sizeof__',\n",
       " '__str__',\n",
       " '__subclasshook__',\n",
       " 'allseg',\n",
       " 'arc3d',\n",
       " 'cell',\n",
       " 'children',\n",
       " 'connect',\n",
       " 'diam3d',\n",
       " 'has_membrane',\n",
       " 'hname',\n",
       " 'hoc_internal_name',\n",
       " 'insert',\n",
       " 'is_pysec',\n",
       " 'n3d',\n",
       " 'name',\n",
       " 'nseg',\n",
       " 'orientation',\n",
       " 'parentseg',\n",
       " 'psection',\n",
       " 'pt3dadd',\n",
       " 'pt3dchange',\n",
       " 'pt3dclear',\n",
       " 'pt3dinsert',\n",
       " 'pt3dremove',\n",
       " 'pt3dstyle',\n",
       " 'push',\n",
       " 'rallbranch',\n",
       " 'same',\n",
       " 'spine3d',\n",
       " 'subtree',\n",
       " 'trueparentseg',\n",
       " 'uninsert',\n",
       " 'wholetree',\n",
       " 'x3d',\n",
       " 'y3d',\n",
       " 'z3d']"
      ]
     },
     "execution_count": 27,
     "metadata": {},
     "output_type": "execute_result"
    }
   ],
   "source": [
    "dir(L5soma.soma)"
   ]
  },
  {
   "cell_type": "code",
   "execution_count": null,
   "id": "d2a405c9-b186-46db-b7d6-b724c321f3b5",
   "metadata": {},
   "outputs": [],
   "source": []
  }
 ],
 "metadata": {
  "kernelspec": {
   "display_name": "Python 3 (ipykernel)",
   "language": "python",
   "name": "python3"
  },
  "language_info": {
   "codemirror_mode": {
    "name": "ipython",
    "version": 3
   },
   "file_extension": ".py",
   "mimetype": "text/x-python",
   "name": "python",
   "nbconvert_exporter": "python",
   "pygments_lexer": "ipython3",
   "version": "3.11.6"
  }
 },
 "nbformat": 4,
 "nbformat_minor": 5
}
